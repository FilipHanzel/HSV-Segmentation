{
 "cells": [
  {
   "cell_type": "code",
   "execution_count": 1,
   "metadata": {},
   "outputs": [],
   "source": [
    "import cv2 as cv\n",
    "import matplotlib.pyplot as plt\n",
    "\n",
    "from segmentation import segment\n",
    "import masks\n"
   ]
  },
  {
   "cell_type": "code",
   "execution_count": 2,
   "metadata": {},
   "outputs": [
    {
     "data": {
      "image/png": "[encoded data removed]",
      "text/plain": [
       "<Figure size 1440x720 with 5 Axes>"
      ]
     },
     "metadata": {
      "needs_background": "light"
     },
     "output_type": "display_data"
    }
   ],
   "source": [
    "image_path = \"example.png\"\n",
    "\n",
    "\n",
    "fig = plt.figure(figsize=(20, 10))\n",
    "\n",
    "ax = fig.add_subplot(151)\n",
    "ax.set_title(\"original\")\n",
    "ax.axis(\"off\")\n",
    "image = cv.cvtColor(cv.imread(image_path), cv.COLOR_BGR2RGB)\n",
    "_ = ax.imshow(image, interpolation=\"nearest\")\n",
    "\n",
    "ax = fig.add_subplot(152)\n",
    "ax.set_title(\"red mask\")\n",
    "ax.axis(\"off\")\n",
    "image = segment(image_path, masks.Red)\n",
    "_ = ax.imshow(image, interpolation=\"nearest\")\n",
    "\n",
    "ax = fig.add_subplot(153)\n",
    "ax.set_title(\"green mask\")\n",
    "ax.axis(\"off\")\n",
    "image = segment(image_path, masks.Green)\n",
    "_ = ax.imshow(image, interpolation=\"nearest\")\n",
    "\n",
    "ax = fig.add_subplot(154)\n",
    "ax.set_title(\"blue mask\")\n",
    "ax.axis(\"off\")\n",
    "image = segment(image_path, masks.Blue)\n",
    "_ = ax.imshow(image, interpolation=\"nearest\")\n",
    "\n",
    "ax = fig.add_subplot(155)\n",
    "ax.set_title(\"magenta mask\")\n",
    "ax.axis(\"off\")\n",
    "image = segment(image_path, masks.Magenta)\n",
    "_ = ax.imshow(image, interpolation=\"nearest\")\n"
   ]
  }
 ],
 "metadata": {
  "kernelspec": {
   "display_name": "Python 3.8.5 64-bit",
   "language": "python",
   "name": "python3"
  },
  "language_info": {
   "codemirror_mode": {
    "name": "ipython",
    "version": 3
   },
   "file_extension": ".py",
   "mimetype": "text/x-python",
   "name": "python",
   "nbconvert_exporter": "python",
   "pygments_lexer": "ipython3",
   "version": "3.8.5"
  },
  "orig_nbformat": 4,
  "vscode": {
   "interpreter": {
    "hash": "80d5b8c49f216e1dae85a4753632a419cb5ffdacc22b7f244465427e44fc8ba1"
   }
  }
 },
 "nbformat": 4,
 "nbformat_minor": 2
}
